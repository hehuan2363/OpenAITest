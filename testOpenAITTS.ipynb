{
 "cells": [
  {
   "cell_type": "code",
   "execution_count": 3,
   "metadata": {},
   "outputs": [],
   "source": [
    "import os\n",
    "from dotenv import load_dotenv\n",
    "load_dotenv()\n",
    "api_key = load_dotenv(\"OPENAI_API_KEY\")\n",
    "from openai import OpenAI\n",
    "client = OpenAI()"
   ]
  },
  {
   "cell_type": "code",
   "execution_count": 4,
   "metadata": {},
   "outputs": [],
   "source": [
    "from pathlib import Path\n",
    "import time\n",
    "# add the path to the file you want to save the audio to and using timestamp to avoid overwriting\n",
    "speech_file_path = Path().resolve() / (time.strftime(\"%Y%m%d-%H%M%S\") + \".mp3\")\n",
    "#speech_file_path = Path().resolve() / \"speech.mp3\"\n",
    "\n",
    "input_text = '''\n",
    "上一张回国的机票是2019年4月的，因为疫情爆发被迫取消。2022年底，预感祖国即将打开国门拥抱病毒。\n",
    "我们火速订了八个月后的回国特价机票，从温哥华飞香港，香港飞台湾停留几天后再从台湾飞香港。\n",
    "担心世界局势动荡不安，也想如果成行能给家人一个惊喜，所以我们没有告诉家人这趟旅行。\n",
    "3月的时候确定暑假去墨西哥玩一趟再从墨西哥飞温哥华回国\n",
    "'''\n",
    "\n",
    "response = client.audio.speech.create(\n",
    "    model=\"tts-1\",\n",
    "    voice = \"onyx\",\n",
    "    input = input_text,\n",
    ")\n",
    "response.stream_to_file(speech_file_path)"
   ]
  },
  {
   "cell_type": "code",
   "execution_count": null,
   "metadata": {},
   "outputs": [],
   "source": []
  }
 ],
 "metadata": {
  "kernelspec": {
   "display_name": "voiceClone",
   "language": "python",
   "name": "python3"
  },
  "language_info": {
   "codemirror_mode": {
    "name": "ipython",
    "version": 3
   },
   "file_extension": ".py",
   "mimetype": "text/x-python",
   "name": "python",
   "nbconvert_exporter": "python",
   "pygments_lexer": "ipython3",
   "version": "3.10.11"
  }
 },
 "nbformat": 4,
 "nbformat_minor": 2
}
